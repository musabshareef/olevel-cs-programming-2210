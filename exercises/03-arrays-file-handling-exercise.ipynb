{
 "cells": [
  {
   "cell_type": "markdown",
   "metadata": {},
   "source": [
    "# Exercise: Arrays and File Handling\n",
    "\n",
    "Complete the following exercises to practice working with arrays (lists in Python) and file handling."
   ]
  },
  {
   "cell_type": "markdown",
   "metadata": {},
   "source": [
    "## 1. Arrays (Lists)\n",
    "\n",
    "### Exercise 1.1\n",
    "Create a list of 5 numbers. Write a program to:\n",
    "a) Print each number in the list\n",
    "b) Calculate and print the sum of all numbers in the list\n",
    "c) Find and print the largest number in the list"
   ]
  },
  {
   "cell_type": "code",
   "execution_count": null,
   "metadata": {},
   "outputs": [],
   "source": [
    "# Your code here\n",
    "\n"
   ]
  },
  {
   "cell_type": "markdown",
   "metadata": {},
   "source": [
    "### Exercise 1.2\n",
    "Write a program that does the following:\n",
    "a) Create a list of 3 fruits\n",
    "b) Ask the user to input a new fruit\n",
    "c) Add the new fruit to the end of the list\n",
    "d) Print the updated list"
   ]
  },
  {
   "cell_type": "code",
   "execution_count": null,
   "metadata": {},
   "outputs": [],
   "source": [
    "# Your code here\n",
    "\n"
   ]
  },
  {
   "cell_type": "markdown",
   "metadata": {},
   "source": [
    "## 2. File Handling\n",
    "\n",
    "### Exercise 2.1\n",
    "Write a program that does the following:\n",
    "a) Creates a new file named \"myfile.txt\" and writes the text \"Hello, World!\" to it\n",
    "b) Reads the contents of this file and prints them to the console\n",
    "c) Appends the text \"Python is fun!\" to the file and prints the updated contents"
   ]
  },
  {
   "cell_type": "code",
   "execution_count": null,
   "metadata": {},
   "outputs": [],
   "source": [
    "# Your code here\n",
    "\n"
   ]
  },
  {
   "cell_type": "markdown",
   "metadata": {},
   "source": [
    "### Exercise 2.2\n",
    "Create a program that reads a text file named \"numbers.txt\" containing one number per line. Calculate and print the sum and average of these numbers."
   ]
  },
  {
   "cell_type": "code",
   "execution_count": null,
   "metadata": {},
   "outputs": [],
   "source": [
    "# Your code here\n",
    "\n"
   ]
  },
  {
   "cell_type": "markdown",
   "metadata": {},
   "source": [
    "## 3. Combining Arrays and File Handling\n",
    "\n",
    "### Exercise 3.1\n",
    "Create a simple to-do list program that:\n",
    "a) Starts with an empty list\n",
    "b) Repeatedly asks the user to input a task (or type 'quit' to exit)\n",
    "c) Adds each task to the list\n",
    "d) When the user types 'quit', writes all the tasks to a file named \"todo.txt\", one task per line"
   ]
  },
  {
   "cell_type": "code",
   "execution_count": null,
   "metadata": {},
   "outputs": [],
   "source": [
    "# Your code here\n",
    "\n"
   ]
  },
  {
   "cell_type": "markdown",
   "metadata": {},
   "source": [
    "### Exercise 3.2\n",
    "Write a program that reads the \"todo.txt\" file created in Exercise 3.1, stores the tasks in a list, and then prints out the tasks with their numbers (e.g., \"1. Buy groceries\")."
   ]
  },
  {
   "cell_type": "code",
   "execution_count": null,
   "metadata": {},
   "outputs": [],
   "source": [
    "# Your code here\n",
    "\n"
   ]
  },
  {
   "cell_type": "markdown",
   "metadata": {},
   "source": [
    "Remember, you can run each cell to test your code. If you're stuck, try to break the problem down into smaller steps. Good luck!"
   ]
  }
 ],
 "metadata": {
  "kernelspec": {
   "display_name": "Python 3",
   "language": "python",
   "name": "python3"
  },
  "language_info": {
   "codemirror_mode": {
    "name": "ipython",
    "version": 3
   },
   "file_extension": ".py",
   "mimetype": "text/x-python",
   "name": "python",
   "nbconvert_exporter": "python",
   "pygments_lexer": "ipython3",
   "version": "3.12.0"
  }
 },
 "nbformat": 4,
 "nbformat_minor": 4
}
