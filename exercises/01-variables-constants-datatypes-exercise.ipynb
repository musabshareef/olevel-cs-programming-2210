{
 "cells": [
  {
   "cell_type": "markdown",
   "metadata": {},
   "source": [
    "# Exercise: Variables, Constants, and Data Types\n",
    "\n",
    "Complete the following exercises to practice working with variables, constants, and different data types in Python."
   ]
  },
  {
   "cell_type": "markdown",
   "metadata": {},
   "source": [
    "## 1. Variable Declaration and Assignment\n",
    "\n",
    "### Exercise 1.1\n",
    "Declare a variable called `student_name` and assign it your name. Print the variable."
   ]
  },
  {
   "cell_type": "code",
   "execution_count": null,
   "metadata": {},
   "outputs": [],
   "source": [
    "# Your code here\n",
    "\n"
   ]
  },
  {
   "cell_type": "markdown",
   "metadata": {},
   "source": [
    "### Exercise 1.2\n",
    "Declare variables for age, height (in meters), and whether you are a student (True/False). Print each variable."
   ]
  },
  {
   "cell_type": "code",
   "execution_count": null,
   "metadata": {},
   "outputs": [],
   "source": [
    "# Your code here\n",
    "\n"
   ]
  },
  {
   "cell_type": "markdown",
   "metadata": {},
   "source": [
    "## 2. Constants\n",
    "\n",
    "### Exercise 2.1\n",
    "Declare a constant called `DAYS_IN_WEEK` and assign it the value 7. Try to reassign a different value to it. What happens?"
   ]
  },
  {
   "cell_type": "code",
   "execution_count": null,
   "metadata": {},
   "outputs": [],
   "source": [
    "# Your code here\n",
    "\n"
   ]
  },
  {
   "cell_type": "markdown",
   "metadata": {},
   "source": [
    "## 3. Data Types\n",
    "\n",
    "### Exercise 3.1\n",
    "Create variables of each of the following types: integer, float, string, and boolean. Print each variable and its type."
   ]
  },
  {
   "cell_type": "code",
   "execution_count": null,
   "metadata": {},
   "outputs": [],
   "source": [
    "# Your code here\n",
    "\n"
   ]
  },
  {
   "cell_type": "markdown",
   "metadata": {},
   "source": [
    "### Exercise 3.2\n",
    "Create a list called `mixed_data_types` that contains one element of each data type (integer, float, string, boolean). Print the list and the type of each element in the list."
   ]
  },
  {
   "cell_type": "code",
   "execution_count": null,
   "metadata": {},
   "outputs": [],
   "source": [
    "# Your code here\n",
    "\n"
   ]
  },
  {
   "cell_type": "markdown",
   "metadata": {},
   "source": [
    "## 4. Type Conversion\n",
    "\n",
    "### Exercise 4.1\n",
    "Convert the following:\n",
    "a) The integer 10 to a float\n",
    "b) The float 3.14 to an integer\n",
    "c) The integer 100 to a string\n",
    "d) The string \"250\" to an integer\n",
    "\n",
    "Print each converted value and its type."
   ]
  },
  {
   "cell_type": "code",
   "execution_count": null,
   "metadata": {},
   "outputs": [],
   "source": [
    "# Your code here\n",
    "\n"
   ]
  },
  {
   "cell_type": "markdown",
   "metadata": {},
   "source": [
    "### Exercise 4.2\n",
    "Create a variable `age` as a string (e.g., \"25\"). Convert it to an integer, add 5 to it, and then convert the result back to a string. Print the final result and its type."
   ]
  },
  {
   "cell_type": "code",
   "execution_count": null,
   "metadata": {},
   "outputs": [],
   "source": [
    "# Your code here\n",
    "\n"
   ]
  },
  {
   "cell_type": "markdown",
   "metadata": {},
   "source": [
    "## 5. Challenge Question\n",
    "\n",
    "### Exercise 5.1\n",
    "Create a program that asks the user for their name, age, and height (in meters). Store these in variables. Then, create a formatted string that says \"Hello, [name]! You are [age] years old and [height] meters tall.\" Print this string.\n",
    "\n",
    "Hint: You'll need to use input() function to get user input, and you may need to convert some inputs to the appropriate data type."
   ]
  },
  {
   "cell_type": "code",
   "execution_count": null,
   "metadata": {},
   "outputs": [],
   "source": [
    "# Your code here\n",
    "\n"
   ]
  },
  {
   "cell_type": "markdown",
   "metadata": {},
   "source": [
    "Remember, you can run each cell to test your code. If you're stuck, try to break the problem down into smaller steps. Good luck!"
   ]
  }
 ],
 "metadata": {
  "kernelspec": {
   "display_name": "Python 3",
   "language": "python",
   "name": "python3"
  },
  "language_info": {
   "codemirror_mode": {
    "name": "ipython",
    "version": 3
   },
   "file_extension": ".py",
   "mimetype": "text/x-python",
   "name": "python",
   "nbconvert_exporter": "python",
   "pygments_lexer": "ipython3",
   "version": "3.12.4"
  }
 },
 "nbformat": 4,
 "nbformat_minor": 4
}
