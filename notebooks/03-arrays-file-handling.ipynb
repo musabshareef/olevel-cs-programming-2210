{
 "cells": [
  {
   "cell_type": "markdown",
   "metadata": {},
   "source": [
    "# Arrays and File Handling in Python\n",
    "\n",
    "## 1. Introduction\n",
    "In this notebook, we'll explore two important concepts in Python programming: arrays (implemented as lists in Python) and file handling. These concepts are crucial for managing collections of data and interacting with external files, allowing for more complex and practical programs."
   ]
  },
  {
   "cell_type": "markdown",
   "metadata": {},
   "source": [
    "## 2. Arrays (Lists in Python)\n",
    "\n",
    "In Python, arrays are typically implemented using lists. Lists are ordered, mutable sequences that can hold elements of different types."
   ]
  },
  {
   "cell_type": "markdown",
   "metadata": {},
   "source": [
    "### 2.1 Creating and Accessing Lists\n",
    "\n",
    "#### Explanation\n",
    "Lists are created using square brackets and elements are accessed by their index (starting from 0).\n",
    "\n",
    "#### Pseudocode\n",
    "```\n",
    "DECLARE array_name : ARRAY[lower:upper] OF data_type\n",
    "array_name[index] ← value\n",
    "```\n",
    "\n",
    "#### Python Implementation"
   ]
  },
  {
   "cell_type": "code",
   "execution_count": null,
   "metadata": {},
   "outputs": [],
   "source": [
    "# Creating a list\n",
    "fruits = [\"apple\", \"banana\", \"cherry\"]\n",
    "\n",
    "# Accessing elements\n",
    "print(fruits[0])  # First element\n",
    "print(fruits[-1])  # Last element\n",
    "\n",
    "# Modifying elements\n",
    "fruits[1] = \"blueberry\"\n",
    "print(fruits)"
   ]
  },
  {
   "cell_type": "markdown",
   "metadata": {},
   "source": [
    "### 2.2 List Operations\n",
    "\n",
    "#### Explanation\n",
    "Python provides various methods to manipulate lists.\n",
    "\n",
    "#### Python Implementation"
   ]
  },
  {
   "cell_type": "code",
   "execution_count": null,
   "metadata": {},
   "outputs": [],
   "source": [
    "numbers = [1, 2, 3, 4, 5]\n",
    "\n",
    "# Adding elements\n",
    "numbers.append(6)  # Add to the end\n",
    "numbers.insert(0, 0)  # Insert at specific index\n",
    "\n",
    "# Removing elements\n",
    "numbers.remove(3)  # Remove first occurrence of 3\n",
    "popped = numbers.pop()  # Remove and return last element\n",
    "\n",
    "print(numbers)\n",
    "print(\"Popped:\", popped)"
   ]
  },
  {
   "cell_type": "markdown",
   "metadata": {},
   "source": [
    "### 2.3 Iterating Through Lists\n",
    "\n",
    "#### Explanation\n",
    "We can use loops to iterate through list elements.\n",
    "\n",
    "#### Python Implementation"
   ]
  },
  {
   "cell_type": "code",
   "execution_count": null,
   "metadata": {},
   "outputs": [],
   "source": [
    "fruits = [\"apple\", \"banana\", \"cherry\"]\n",
    "\n",
    "# Using a for loop\n",
    "for fruit in fruits:\n",
    "    print(fruit)\n",
    "\n",
    "# Using range and len\n",
    "for i in range(len(fruits)):\n",
    "    print(f\"Index {i}: {fruits[i]}\")"
   ]
  },
  {
   "cell_type": "markdown",
   "metadata": {},
   "source": [
    "## 3. File Handling\n",
    "\n",
    "File handling allows programs to read from and write to external files."
   ]
  },
  {
   "cell_type": "markdown",
   "metadata": {},
   "source": [
    "### 3.1 Opening and Closing Files\n",
    "\n",
    "#### Explanation\n",
    "Files must be opened before they can be read from or written to, and should be closed after use.\n",
    "\n",
    "#### Pseudocode\n",
    "```\n",
    "OPENFILE file_name FOR mode\n",
    "...\n",
    "CLOSEFILE file_name\n",
    "```\n",
    "\n",
    "#### Python Implementation"
   ]
  },
  {
   "cell_type": "code",
   "execution_count": null,
   "metadata": {},
   "outputs": [],
   "source": [
    "# Opening a file for writing\n",
    "file = open(\"example.txt\", \"w\")\n",
    "file.write(\"Hello, World!\")\n",
    "file.close()\n",
    "\n",
    "# Using 'with' statement (recommended)\n",
    "with open(\"example.txt\", \"r\") as file:\n",
    "    content = file.read()\n",
    "    print(content)"
   ]
  },
  {
   "cell_type": "markdown",
   "metadata": {},
   "source": [
    "### 3.2 Reading from Files\n",
    "\n",
    "#### Explanation\n",
    "Python provides several methods to read content from files.\n",
    "\n",
    "#### Python Implementation"
   ]
  },
  {
   "cell_type": "code",
   "execution_count": null,
   "metadata": {},
   "outputs": [],
   "source": [
    "with open(\"example.txt\", \"r\") as file:\n",
    "    # Read entire file\n",
    "    content = file.read()\n",
    "    print(\"Entire file:\", content)\n",
    "    \n",
    "    # Reset file pointer to beginning\n",
    "    file.seek(0)\n",
    "    \n",
    "    # Read line by line\n",
    "    print(\"Line by line:\")\n",
    "    for line in file:\n",
    "        print(line.strip())"
   ]
  },
  {
   "cell_type": "markdown",
   "metadata": {},
   "source": [
    "### 3.3 Writing to Files\n",
    "\n",
    "#### Explanation\n",
    "We can write strings or lines to files using write methods.\n",
    "\n",
    "#### Python Implementation"
   ]
  },
  {
   "cell_type": "code",
   "execution_count": null,
   "metadata": {},
   "outputs": [],
   "source": [
    "with open(\"newfile.txt\", \"w\") as file:\n",
    "    file.write(\"First line\\n\")\n",
    "    file.write(\"Second line\\n\")\n",
    "\n",
    "# Appending to a file\n",
    "with open(\"newfile.txt\", \"a\") as file:\n",
    "    file.write(\"Appended line\\n\")\n",
    "\n",
    "# Reading the file to verify content\n",
    "with open(\"newfile.txt\", \"r\") as file:\n",
    "    print(file.read())"
   ]
  },
  {
   "cell_type": "markdown",
   "metadata": {},
   "source": [
    "## 4. Conclusion\n",
    "Understanding arrays (lists) and file handling is crucial for managing data and creating more complex programs. Lists allow you to work with collections of data efficiently, while file handling enables your programs to interact with external data sources and persist information between program executions."
   ]
  }
 ],
 "metadata": {
  "kernelspec": {
   "display_name": "Python 3",
   "language": "python",
   "name": "python3"
  },
  "language_info": {
   "codemirror_mode": {
    "name": "ipython",
    "version": 3
   },
   "file_extension": ".py",
   "mimetype": "text/x-python",
   "name": "python",
   "nbconvert_exporter": "python",
   "pygments_lexer": "ipython3",
   "version": "3.12.0"
  }
 },
 "nbformat": 4,
 "nbformat_minor": 4
}
