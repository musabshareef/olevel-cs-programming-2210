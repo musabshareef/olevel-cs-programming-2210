{
 "cells": [
  {
   "cell_type": "markdown",
   "metadata": {},
   "source": [
    "# Selection and Iteration in Python\n",
    "\n",
    "## 1. Introduction\n",
    "In this notebook, we'll explore two fundamental concepts in Python programming: selection and iteration. These concepts are essential for creating dynamic and flexible programs that can make decisions and repeat actions.\n",
    "\n",
    "Selection allows a program to make decisions based on certain conditions, while iteration enables the repetition of code blocks. Understanding these concepts is crucial for solving complex problems and implementing efficient algorithms."
   ]
  },
  {
   "cell_type": "markdown",
   "metadata": {},
   "source": [
    "## 2. Selection\n",
    "\n",
    "Selection structures allow programs to execute different code based on whether a condition is true or false."
   ]
  },
  {
   "cell_type": "markdown",
   "metadata": {},
   "source": [
    "### 2.1 If Statement\n",
    "\n",
    "#### Explanation\n",
    "The 'if' statement is the simplest form of selection. It executes a block of code only if a specified condition is true.\n",
    "\n",
    "#### Pseudocode\n",
    "```\n",
    "IF <condition>\n",
    "THEN\n",
    "    <statements>\n",
    "ENDIF\n",
    "```\n",
    "\n",
    "#### Python Implementation"
   ]
  },
  {
   "cell_type": "code",
   "execution_count": null,
   "metadata": {},
   "outputs": [],
   "source": [
    "age = 18\n",
    "if age >= 18:\n",
    "    print(\"You are an adult.\")"
   ]
  },
  {
   "cell_type": "markdown",
   "metadata": {},
   "source": [
    "### 2.2 If-Else Statement\n",
    "\n",
    "#### Explanation\n",
    "The 'if-else' statement provides an alternative execution path when the condition is false.\n",
    "\n",
    "#### Pseudocode\n",
    "```\n",
    "IF <condition>\n",
    "THEN\n",
    "    <statements1>\n",
    "ELSE\n",
    "    <statements2>\n",
    "ENDIF\n",
    "```\n",
    "\n",
    "#### Python Implementation"
   ]
  },
  {
   "cell_type": "code",
   "execution_count": null,
   "metadata": {},
   "outputs": [],
   "source": [
    "age = 15\n",
    "if age >= 18:\n",
    "    print(\"You are an adult.\")\n",
    "else:\n",
    "    print(\"You are a minor.\")"
   ]
  },
  {
   "cell_type": "markdown",
   "metadata": {},
   "source": [
    "### 2.3 If-Elif-Else Statement\n",
    "\n",
    "#### Explanation\n",
    "The 'if-elif-else' statement allows checking multiple conditions in sequence.\n",
    "\n",
    "#### Pseudocode\n",
    "```\n",
    "IF <condition1>\n",
    "THEN\n",
    "    <statements1>\n",
    "ELSEIF <condition2>\n",
    "THEN\n",
    "    <statements2>\n",
    "ELSE\n",
    "    <statements3>\n",
    "ENDIF\n",
    "```\n",
    "\n",
    "#### Python Implementation"
   ]
  },
  {
   "cell_type": "code",
   "execution_count": null,
   "metadata": {},
   "outputs": [],
   "source": [
    "score = 85\n",
    "if score >= 90:\n",
    "    print(\"Grade: A\")\n",
    "elif score >= 80:\n",
    "    print(\"Grade: B\")\n",
    "elif score >= 70:\n",
    "    print(\"Grade: C\")\n",
    "else:\n",
    "    print(\"Grade: F\")"
   ]
  },
  {
   "cell_type": "markdown",
   "metadata": {},
   "source": [
    "## 3. Iteration\n",
    "\n",
    "Iteration structures allow programs to repeat a block of code multiple times."
   ]
  },
  {
   "cell_type": "markdown",
   "metadata": {},
   "source": [
    "### 3.1 For Loop\n",
    "\n",
    "#### Explanation\n",
    "The 'for' loop is used to iterate over a sequence (like a range of numbers or a list) a specific number of times.\n",
    "\n",
    "#### Pseudocode\n",
    "```\n",
    "FOR <variable> ← <start> TO <end>\n",
    "    <statements>\n",
    "NEXT <variable>\n",
    "```\n",
    "\n",
    "#### Python Implementation"
   ]
  },
  {
   "cell_type": "code",
   "execution_count": null,
   "metadata": {},
   "outputs": [],
   "source": [
    "for i in range(5):  # 0 to 4\n",
    "    print(i)"
   ]
  },
  {
   "cell_type": "markdown",
   "metadata": {},
   "source": [
    "### 3.2 While Loop\n",
    "\n",
    "#### Explanation\n",
    "The 'while' loop repeats a block of code as long as a specified condition is true.\n",
    "\n",
    "#### Pseudocode\n",
    "```\n",
    "WHILE <condition> DO\n",
    "    <statements>\n",
    "ENDWHILE\n",
    "```\n",
    "\n",
    "#### Python Implementation"
   ]
  },
  {
   "cell_type": "code",
   "execution_count": null,
   "metadata": {},
   "outputs": [],
   "source": [
    "count = 0\n",
    "while count < 5:\n",
    "    print(count)\n",
    "    count += 1"
   ]
  },
  {
   "cell_type": "markdown",
   "metadata": {},
   "source": [
    "## 4. Combining Selection and Iteration\n",
    "\n",
    "#### Explanation\n",
    "Selection and iteration can be combined to create more complex logic in programs.\n",
    "\n",
    "#### Python Implementation"
   ]
  },
  {
   "cell_type": "code",
   "execution_count": null,
   "metadata": {},
   "outputs": [],
   "source": [
    "# Print even numbers from 0 to 9\n",
    "for num in range(10):\n",
    "    if num % 2 == 0:\n",
    "        print(num, \"is even\")"
   ]
  },
  {
   "cell_type": "markdown",
   "metadata": {},
   "source": [
    "## 5. Conclusion\n",
    "Understanding selection and iteration is crucial for writing effective Python programs. These concepts form the foundation upon which more complex programming structures are built. They allow you to create programs that can make decisions and repeat actions, essential for solving a wide range of programming problems."
   ]
  }
 ],
 "metadata": {
  "kernelspec": {
   "display_name": "Python 3",
   "language": "python",
   "name": "python3"
  },
  "language_info": {
   "codemirror_mode": {
    "name": "ipython",
    "version": 3
   },
   "file_extension": ".py",
   "mimetype": "text/x-python",
   "name": "python",
   "nbconvert_exporter": "python",
   "pygments_lexer": "ipython3",
   "version": "3.12.0"
  }
 },
 "nbformat": 4,
 "nbformat_minor": 4
}
