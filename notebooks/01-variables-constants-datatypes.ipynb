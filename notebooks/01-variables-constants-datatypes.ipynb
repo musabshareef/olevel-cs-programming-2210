{
 "cells": [
  {
   "cell_type": "markdown",
   "metadata": {},
   "source": [
    "# Variables, Constants, and Data Types in Python\n",
    "\n",
    "## 1. Introduction\n",
    "In this notebook, we'll explore fundamental concepts in Python programming: variables, constants, and basic data types. These are essential building blocks for any Python program.\n",
    "\n",
    "## 2. Variables\n",
    "\n",
    "### Explanation\n",
    "Variables are containers for storing data values. In Python, you don't need to declare a variable before using it. Python automatically determines the type of the variable based on the value assigned to it.\n",
    "\n",
    "### Pseudocode\n",
    "```\n",
    "DECLARE variable_name : data_type\n",
    "variable_name ← value\n",
    "```\n",
    "\n",
    "### Python Implementation"
   ]
  },
  {
   "cell_type": "code",
   "execution_count": null,
   "metadata": {},
   "outputs": [],
   "source": [
    "# Integer variable\n",
    "age = 25\n",
    "print(f\"Age: {age}\")\n",
    "\n",
    "# Float variable\n",
    "height = 1.75\n",
    "print(f\"Height: {height} meters\")\n",
    "\n",
    "# String variable\n",
    "name = \"Alice\"\n",
    "print(f\"Name: {name}\")\n",
    "\n",
    "# Boolean variable\n",
    "is_student = True\n",
    "print(f\"Is a student: {is_student}\")"
   ]
  },
  {
   "cell_type": "markdown",
   "metadata": {},
   "source": [
    "## 3. Constants\n",
    "\n",
    "### Explanation\n",
    "Constants are variables whose values should not be changed once they are assigned. Python doesn't have built-in constant types, but by convention, we use all capital letters for variables that should be treated as constants.\n",
    "\n",
    "### Pseudocode\n",
    "```\n",
    "CONSTANT VARIABLE_NAME ← value\n",
    "```\n",
    "\n",
    "### Python Implementation"
   ]
  },
  {
   "cell_type": "code",
   "execution_count": null,
   "metadata": {},
   "outputs": [],
   "source": [
    "PI = 3.14159\n",
    "GRAVITY = 9.8\n",
    "MAX_STUDENTS = 30\n",
    "\n",
    "print(f\"Pi: {PI}\")\n",
    "print(f\"Gravity: {GRAVITY} m/s²\")\n",
    "print(f\"Maximum number of students: {MAX_STUDENTS}\")"
   ]
  },
  {
   "cell_type": "markdown",
   "metadata": {},
   "source": [
    "## 4. Basic Data Types\n",
    "\n",
    "### Explanation\n",
    "Python has several basic data types:\n",
    "- Integer (int): Whole numbers\n",
    "- Float (float): Decimal numbers\n",
    "- String (str): Text\n",
    "- Boolean (bool): True or False\n",
    "\n",
    "### Pseudocode\n",
    "```\n",
    "DECLARE integer_var : INTEGER\n",
    "DECLARE float_var : REAL\n",
    "DECLARE string_var : STRING\n",
    "DECLARE boolean_var : BOOLEAN\n",
    "```\n",
    "\n",
    "### Python Implementation"
   ]
  },
  {
   "cell_type": "code",
   "execution_count": null,
   "metadata": {},
   "outputs": [],
   "source": [
    "# Integer\n",
    "count = 10\n",
    "print(f\"Count (int): {count}, Type: {type(count)}\")\n",
    "\n",
    "# Float\n",
    "price = 19.99\n",
    "print(f\"Price (float): {price}, Type: {type(price)}\")\n",
    "\n",
    "# String\n",
    "message = \"Hello, World!\"\n",
    "print(f\"Message (str): {message}, Type: {type(message)}\")\n",
    "\n",
    "# Boolean\n",
    "is_raining = False\n",
    "print(f\"Is it raining? (bool): {is_raining}, Type: {type(is_raining)}\")"
   ]
  },
  {
   "cell_type": "markdown",
   "metadata": {},
   "source": [
    "## 5. Type Conversion\n",
    "\n",
    "### Explanation\n",
    "Sometimes you need to convert one data type to another. Python provides built-in functions for type conversion.\n",
    "\n",
    "### Python Implementation"
   ]
  },
  {
   "cell_type": "code",
   "execution_count": null,
   "metadata": {},
   "outputs": [],
   "source": [
    "# String to Integer\n",
    "age_str = \"25\"\n",
    "age_int = int(age_str)\n",
    "print(f\"Age as integer: {age_int}, Type: {type(age_int)}\")\n",
    "\n",
    "# Integer to Float\n",
    "count_int = 10\n",
    "count_float = float(count_int)\n",
    "print(f\"Count as float: {count_float}, Type: {type(count_float)}\")\n",
    "\n",
    "# Float to String\n",
    "price_float = 19.99\n",
    "price_str = str(price_float)\n",
    "print(f\"Price as string: {price_str}, Type: {type(price_str)}\")\n",
    "\n",
    "# Integer to Boolean\n",
    "num = 1\n",
    "bool_value = bool(num)\n",
    "print(f\"1 as boolean: {bool_value}, Type: {type(bool_value)}\")"
   ]
  },
  {
   "cell_type": "markdown",
   "metadata": {},
   "source": [
    "## 6. Conclusion\n",
    "Understanding variables, constants, and basic data types is crucial for writing effective Python programs. These concepts form the foundation upon which more complex programming structures are built."
   ]
  }
 ],
 "metadata": {
  "kernelspec": {
   "display_name": "Python 3",
   "language": "python",
   "name": "python3"
  },
  "language_info": {
   "codemirror_mode": {
    "name": "ipython",
    "version": 3
   },
   "file_extension": ".py",
   "mimetype": "text/x-python",
   "name": "python",
   "nbconvert_exporter": "python",
   "pygments_lexer": "ipython3",
   "version": "3.9.6"
  }
 },
 "nbformat": 4,
 "nbformat_minor": 2
}
